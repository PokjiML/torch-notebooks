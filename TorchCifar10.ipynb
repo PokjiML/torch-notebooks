{
  "nbformat": 4,
  "nbformat_minor": 0,
  "metadata": {
    "colab": {
      "provenance": [],
      "gpuType": "T4"
    },
    "kernelspec": {
      "name": "python3",
      "display_name": "Python 3"
    },
    "language_info": {
      "name": "python"
    },
    "accelerator": "GPU"
  },
  "cells": [
    {
      "cell_type": "code",
      "source": [
        "import torch\n",
        "import torch.nn as nn\n",
        "import torch.nn.functional as F\n",
        "import torch.optim as optim\n",
        "from torch.utils.data import Subset                     # For training\n",
        "from torch.optim.lr_scheduler import LambdaLR, StepLR   # For warmup and LR scheduling\n",
        "from torchvision import datasets, transforms\n",
        "from torch.utils.data import DataLoader, ConcatDataset\n",
        "import matplotlib.pyplot as plt\n",
        "import numpy as np\n"
      ],
      "metadata": {
        "id": "KlczoKnu1asu"
      },
      "execution_count": 1,
      "outputs": []
    },
    {
      "cell_type": "code",
      "source": [
        "\n",
        "# Image Augmentation\n",
        "aug_transform = transforms.Compose([\n",
        "    transforms.RandomRotation(degrees=15),\n",
        "    transforms.RandomHorizontalFlip(p=0.5),\n",
        "    transforms.RandomAffine(degrees=0, translate=(0.01, 0.01)),\n",
        "    transforms.ToTensor(),\n",
        "    transforms.Normalize((0.5, 0.5, 0.5), (0.5, 0.5, 0.5)),\n",
        "])\n",
        "\n",
        "org_transform = transforms.Compose([\n",
        "    transforms.ToTensor(),\n",
        "    transforms.Normalize((0.5, 0.5, 0.5), (0.5, 0.5, 0.5)),\n",
        "])\n",
        "\n",
        "# Declare the original\n",
        "aug_train_dataset = datasets.CIFAR10(root='./data', train=True, download=True, transform=aug_transform)\n",
        "org_train_dataset = datasets.CIFAR10(root='./data', train=True, download=True, transform=org_transform)\n",
        "test_dataset = datasets.CIFAR10(root='./data', train=False, download=False, transform = org_transform)\n",
        "\n",
        "# Concatenate both datasets\n",
        "concat_dataset = ConcatDataset([aug_train_dataset, org_train_dataset])\n",
        "\n",
        "train_loader = DataLoader(concat_dataset, batch_size=64, shuffle=True)\n",
        "test_loader = DataLoader(test_dataset, batch_size=64, shuffle=True)"
      ],
      "metadata": {
        "id": "B28E319y3e_o",
        "colab": {
          "base_uri": "https://localhost:8080/"
        },
        "outputId": "b5e6c955-936b-48c7-d313-9df40de89da8"
      },
      "execution_count": 2,
      "outputs": [
        {
          "output_type": "stream",
          "name": "stdout",
          "text": [
            "Downloading https://www.cs.toronto.edu/~kriz/cifar-10-python.tar.gz to ./data/cifar-10-python.tar.gz\n"
          ]
        },
        {
          "output_type": "stream",
          "name": "stderr",
          "text": [
            "100%|██████████| 170M/170M [00:03<00:00, 49.5MB/s]\n"
          ]
        },
        {
          "output_type": "stream",
          "name": "stdout",
          "text": [
            "Extracting ./data/cifar-10-python.tar.gz to ./data\n",
            "Files already downloaded and verified\n"
          ]
        }
      ]
    },
    {
      "cell_type": "code",
      "source": [
        "# Reduce the datasets for development\n",
        "subset_train_dataset = Subset(concat_dataset, list(range(10000)))\n",
        "subset_test_dataset = Subset(test_dataset, list(range(2000)))\n",
        "\n",
        "# Data loader declaration\n",
        "subset_train_loader = DataLoader(subset_train_dataset, batch_size=128, shuffle=True)\n",
        "subset_test_loader = DataLoader(subset_test_dataset, batch_size=128, shuffle=True)\n",
        "\n",
        "len(subset_train_dataset)"
      ],
      "metadata": {
        "colab": {
          "base_uri": "https://localhost:8080/"
        },
        "id": "k095V65PYRig",
        "outputId": "ab01590b-dad3-4ee7-cb5e-593caef97794"
      },
      "execution_count": 7,
      "outputs": [
        {
          "output_type": "execute_result",
          "data": {
            "text/plain": [
              "10000"
            ]
          },
          "metadata": {},
          "execution_count": 7
        }
      ]
    },
    {
      "cell_type": "code",
      "source": [
        "example = next(iter(train_loader))\n",
        "\n",
        "example = (example[0][0] + 1) / 2 # normalize back to [0, 1] from [-1, 1]\n",
        "plt.imshow(example.numpy().transpose(1, 2, 0))\n",
        "plt.axis('off')"
      ],
      "metadata": {
        "colab": {
          "base_uri": "https://localhost:8080/",
          "height": 424
        },
        "id": "58u-qMK_1nCl",
        "outputId": "d56a430f-c839-4ce3-bb4e-995fa1169e0e"
      },
      "execution_count": 8,
      "outputs": [
        {
          "output_type": "execute_result",
          "data": {
            "text/plain": [
              "(-0.5, 31.5, 31.5, -0.5)"
            ]
          },
          "metadata": {},
          "execution_count": 8
        },
        {
          "output_type": "display_data",
          "data": {
            "text/plain": [
              "<Figure size 640x480 with 1 Axes>"
            ],
            "image/png": "[encoded data removed]"
          },
          "metadata": {}
        }
      ]
    },
    {
      "cell_type": "code",
      "source": [
        "class ResidualBlock(nn.Module):\n",
        "    def __init__(self, in_channels, out_channels, stride=1):\n",
        "        super(ResidualBlock, self).__init__()\n",
        "        #Conv layer                                                       # in (batch, in_channels, img_h, img_w)\n",
        "        self.conv1 = nn.Conv2d(in_channels, out_channels, kernel_size=3,  # -> (batch, out_channels, img_h, img_w)\n",
        "                               stride=1, padding=1, bias=False)\n",
        "        # Batch normalization\n",
        "        self.bn1 = nn.BatchNorm2d(out_channels)\n",
        "        # Nonlinearity\n",
        "        self.relu = nn.ReLU(inplace=True)\n",
        "        # Second Convolution layer\n",
        "        self.conv2 = nn.Conv2d(out_channels, out_channels, kernel_size=3, # -> (batch, out_channels, img_h, img_w)\n",
        "                               stride=1, padding=1, bias=False)\n",
        "        # Batch normalization\n",
        "        self.bn2 = nn.BatchNorm2d(out_channels)\n",
        "\n",
        "        # Residual connection (do nothing if dimensions match)\n",
        "        self.downsample = nn.Sequential()\n",
        "        if in_channels != out_channels:\n",
        "            self.downsample = nn.Sequential(\n",
        "            #   Change the dim with 1x1 convolution                             # (batch_ in_channel, img_h, img_w)\n",
        "                nn.Conv2d(in_channels, out_channels, kernel_size=1, bias=False) # -> (batch, out_channel, img_h, img_w)\n",
        "                nn.BatchNorm2d(out_channels)\n",
        "            )\n",
        "\n",
        "    def forward(self, x):\n",
        "        # Save the residual connection\n",
        "        identity = x\n",
        "        # Convolution -> Batch_norm -> ReLU\n",
        "        x = self.relu(self.bn1(self.conv1(x))) # -> (batch, out_channel, img_h, img_w)\n",
        "        x = self.relu(self.bn2(self.conv2(x))) # -> (batch, out_channel, img_h, img_w)\n",
        "        x += self.downsample(identity) # add residual connection\n",
        "        x += self.relu(x)\n",
        "        return(x)\n",
        "\n"
      ],
      "metadata": {
        "id": "XAVeRx1kiI25"
      },
      "execution_count": null,
      "outputs": []
    },
    {
      "cell_type": "code",
      "source": [
        "class ResidualCNN(nn.Module):\n",
        "    def __init__(self):\n",
        "        super(ResidualCNN, self).__init__()\n",
        "\n",
        "        # Initial conv layer\n",
        "        self.conv1 = nn.Conv2d(in_channels=3, out_channels=16, kernel_size=3, padding=1, bias=False)\n",
        "        self.bn1 = nn.BatchNorm2d(16)\n",
        "        self.relu = nn.ReLU()\n",
        "\n",
        "        self.res_layer1 = nn.Sequential(\n",
        "            ResidualBlock(16, 16),\n",
        "            ResidualBlock(16, 16),\n",
        "            ResidualBlock(16, 16)\n",
        "        )\n"
      ],
      "metadata": {
        "id": "Ydg_ra24nucf"
      },
      "execution_count": null,
      "outputs": []
    },
    {
      "cell_type": "code",
      "source": [
        "class CNN(nn.Module):\n",
        "    def __init__(self):\n",
        "        super(CNN, self).__init__()\n",
        "        self.conv1 = nn.Conv2d(in_channels=3, out_channels=16, kernel_size=3, padding=1) # (4, 3, 32, 32) -> (4, 16, 32, 32)\n",
        "        self.conv2 = nn.Conv2d(in_channels=16, out_channels=32, kernel_size=3, padding=1) # -> (4, 32, 32, 32)\n",
        "        self.conv3 = nn.Conv2d(in_channels=32, out_channels=64, kernel_size=3, padding=1) # -> (4, 64, 16, 16)\n",
        "        self.conv4 = nn.Conv2d(in_channels=64, out_channels=128, kernel_size=3, padding=1)\n",
        "        self.fc1 = nn.Linear(in_features=128*8*8, out_features=128) # -> (4, 128)\n",
        "        self.fc2 = nn.Linear(in_features=128, out_features=10) # -> (4, 10)\n",
        "        self.pool = nn.MaxPool2d(kernel_size=2, stride=2)\n",
        "        self.relu = nn.ReLU()\n",
        "        self.dropout = nn.Dropout(0.2)\n",
        "        self.bn1 = nn.BatchNorm2d(32)\n",
        "        self.bn2 = nn.BatchNorm2d(64)\n",
        "        self.bn3 = nn.BatchNorm2d(128)\n",
        "        self.res_conv1 = nn.Conv2d(in_channels=3, out_channels=16, kernel_size=1, stride=1, padding=0)\n",
        "        self.res_conv2 = nn.Conv2d(in_channels=16, out_channels=32, kernel_size=1, stride=2, padding=0) # (4, 32, y/2, x/2)\n",
        "\n",
        "\n",
        "    def forward(self, x):\n",
        "        identity = x # (4, 3, 32, 32)\n",
        "        x = self.relu(self.conv1(x)) # -> (4, 16, 32, 32)\n",
        "        x = x + self.res_conv1(identity) # residual connection\n",
        "        identity = x # (4, 16, 32, 32)\n",
        "        x = self.bn1(self.relu(self.conv2(x))) # -> (4, 32, 32, 32)\n",
        "        x = self.pool(x) # -> (4, 32, 16, 16)\n",
        "        x = x + self.res_conv2(identity) # residual_connection\n",
        "        x = self.bn2(self.relu(self.conv3(x))) # -> (4, 64, 16, 16)\n",
        "        x = self.pool(x) # -> (4, 64, 8, 8)\n",
        "        x = self.bn3(self.relu(self.conv4(x))) # -> (4, 128, 8, 8) x\n",
        "        x = x.view(-1, 128*8*8) # -> (4, 64*8*8)\n",
        "        x = self.relu(self.fc1(x)) # -> (4, 128)\n",
        "        x = self.dropout(x)\n",
        "        x = self.relu(self.fc2(x)) # -> (4, 10)\n",
        "        return x\n",
        "\n"
      ],
      "metadata": {
        "id": "OjmESqSJV369"
      },
      "execution_count": 13,
      "outputs": []
    },
    {
      "cell_type": "code",
      "source": [
        "device = torch.device(\"cuda\" if torch.cuda.is_available() else 'cpu')\n",
        "\n",
        "model = CNN().to(device)\n",
        "criterion = nn.CrossEntropyLoss()\n",
        "optimizer = optim.Adam(model.parameters(), lr=0.001)"
      ],
      "metadata": {
        "id": "T_WXY71jPS9G"
      },
      "execution_count": 19,
      "outputs": []
    },
    {
      "cell_type": "code",
      "source": [
        "def warmup_lambda(epoch):\n",
        "    warmup_epochs = 5\n",
        "    if epoch < warmup_epochs:\n",
        "        return (epoch + 1) / warmup_epochs # Linearly scale warmup\n",
        "    else:\n",
        "        return 1.0\n",
        "\n",
        "# warmup = lambda epoch: (epoch + 1) / 5\n",
        "\n",
        "# Warmup scheduler\n",
        "warmup_scheduler = LambdaLR(optimizer, lr_lambda=warmup_lambda)\n",
        "\n",
        "# Main scheduler\n",
        "main_scheduler = StepLR(optimizer, step_size=5, gamma = 0.1)\n"
      ],
      "metadata": {
        "id": "APdUXIMg5Q9N"
      },
      "execution_count": 20,
      "outputs": []
    },
    {
      "cell_type": "code",
      "source": [
        "num_epochs = 20\n",
        "\n",
        "for epoch in range(num_epochs):\n",
        "    model.train()\n",
        "    running_loss = 0.0\n",
        "\n",
        "    for images, labels in train_loader:\n",
        "        images, labels = images.to(device), labels.to(device)\n",
        "\n",
        "        # forward pass\n",
        "        output = model(images)\n",
        "        loss = criterion(output, labels)\n",
        "\n",
        "        # backward pass\n",
        "        optimizer.zero_grad()\n",
        "        loss.backward()\n",
        "        optimizer.step()\n",
        "\n",
        "        # Track loss\n",
        "        running_loss += loss.item()\n",
        "\n",
        "    if epoch < 5:\n",
        "        warmup_scheduler.step()\n",
        "    else:\n",
        "        main_scheduler.step()\n",
        "\n",
        "    avg_loss = running_loss / len(subset_train_loader)\n",
        "    print(f\"Epoch [{epoch}], Loss: {avg_loss:.4f}, LR: {main_scheduler.get_last_lr()}\")"
      ],
      "metadata": {
        "colab": {
          "base_uri": "https://localhost:8080/"
        },
        "id": "fx_BtdnLQr0r",
        "outputId": "50e8bcaa-5b45-4142-cf34-b419f4a6cdd6"
      },
      "execution_count": 21,
      "outputs": [
        {
          "output_type": "stream",
          "name": "stdout",
          "text": [
            "Epoch [0], Loss: 21.9070, LR: [0.0002]\n",
            "Epoch [1], Loss: 15.4532, LR: [0.0002]\n",
            "Epoch [2], Loss: 12.8795, LR: [0.0002]\n",
            "Epoch [3], Loss: 11.3997, LR: [0.0002]\n",
            "Epoch [4], Loss: 10.3678, LR: [0.0002]\n",
            "Epoch [5], Loss: 8.9143, LR: [0.001]\n",
            "Epoch [6], Loss: 7.7597, LR: [0.001]\n",
            "Epoch [7], Loss: 6.9668, LR: [0.001]\n",
            "Epoch [8], Loss: 6.3478, LR: [0.001]\n",
            "Epoch [9], Loss: 5.9199, LR: [0.0001]\n",
            "Epoch [10], Loss: 4.1964, LR: [0.0001]\n",
            "Epoch [11], Loss: 3.5979, LR: [0.0001]\n",
            "Epoch [12], Loss: 3.2934, LR: [0.0001]\n",
            "Epoch [13], Loss: 3.1534, LR: [0.0001]\n",
            "Epoch [14], Loss: 2.9416, LR: [1e-05]\n",
            "Epoch [15], Loss: 2.7867, LR: [1e-05]\n",
            "Epoch [16], Loss: 2.7216, LR: [1e-05]\n",
            "Epoch [17], Loss: 2.7215, LR: [1e-05]\n",
            "Epoch [18], Loss: 2.7031, LR: [1e-05]\n",
            "Epoch [19], Loss: 2.6631, LR: [1.0000000000000002e-06]\n"
          ]
        }
      ]
    },
    {
      "cell_type": "code",
      "source": [
        "model.eval()\n",
        "correct = 0\n",
        "total = 0\n",
        "\n",
        "with torch.no_grad():\n",
        "    for images, labels in test_loader:\n",
        "        images, labels = images.to(device), labels.to(device)\n",
        "        outputs = model(images)\n",
        "        _, predicted = torch.max(outputs, 1)\n",
        "        correct += (predicted == labels).sum().item()\n",
        "\n",
        "accuracy = correct / len(test_dataset)\n",
        "print(f'The accuracy of the model is {accuracy}')\n",
        "\n",
        "\n"
      ],
      "metadata": {
        "colab": {
          "base_uri": "https://localhost:8080/"
        },
        "id": "LnMnENilSHa6",
        "outputId": "9e9377c4-d592-4a97-c49c-077c704afd3a"
      },
      "execution_count": 22,
      "outputs": [
        {
          "output_type": "stream",
          "name": "stdout",
          "text": [
            "The accuracy of the model is 0.8416\n"
          ]
        }
      ]
    },
    {
      "cell_type": "code",
      "source": [],
      "metadata": {
        "id": "qi2wCzbPfloC"
      },
      "execution_count": null,
      "outputs": []
    }
  ]
}